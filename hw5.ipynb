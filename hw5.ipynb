{
 "cells": [
  {
   "cell_type": "code",
   "execution_count": 1,
   "id": "f801274b-1796-436d-be97-6d88517c0093",
   "metadata": {},
   "outputs": [],
   "source": [
    "periodics = [\n",
    "    \"The Moscow Times — Wednesday, October 2, 2002\",\n",
    "    \"The Guardian — Friday, 11.10.13\",\n",
    "    \"Daily News — Thursday, 18 August 1977\",\n",
    "]\n",
    "datetimes_of_periodics = [\n",
    "    'Wednesday, October 2, 2002',\n",
    "    'Friday, 11.10.13',\n",
    "    'Thursday, 18 August 1977',\n",
    "]"
   ]
  },
  {
   "cell_type": "code",
   "execution_count": 2,
   "id": "6c01763a-2b50-4685-bd46-180e9ef6724f",
   "metadata": {},
   "outputs": [],
   "source": [
    "import datetime as dt\n",
    "def parse_periodic_datetime(periodic_datetime: str):\n",
    "    datetime_formats = [\n",
    "        '%A, %B %d, %Y',\n",
    "        '%A, %d.%m.%y',\n",
    "        '%A, %d %B %Y',\n",
    "    ]\n",
    "\n",
    "    for datetime_format in datetime_formats:\n",
    "        try:\n",
    "            return dt.datetime.strptime(periodic_datetime, datetime_format)\n",
    "        except ValueError:\n",
    "            continue\n",
    "    raise ValueError('Unknown periodic datetime format')"
   ]
  },
  {
   "cell_type": "code",
   "execution_count": 3,
   "id": "d5042acf-bc5a-4785-b986-3e2e7967b7a1",
   "metadata": {},
   "outputs": [
    {
     "name": "stdout",
     "output_type": "stream",
     "text": [
      "2002-10-02T00:00:00\n",
      "2013-10-11T00:00:00\n",
      "1977-08-18T00:00:00\n"
     ]
    }
   ],
   "source": [
    "for periodic_datetime in datetimes_of_periodics:\n",
    "    print(parse_periodic_datetime(periodic_datetime).isoformat())"
   ]
  },
  {
   "cell_type": "code",
   "execution_count": null,
   "id": "70807eee-b5bb-4c12-9997-905290cdfca2",
   "metadata": {},
   "outputs": [
    {
     "name": "stdin",
     "output_type": "stream",
     "text": [
      "Enter a datetime of periodic:  Friday, 11.10.13\n"
     ]
    },
    {
     "name": "stdout",
     "output_type": "stream",
     "text": [
      "2013-10-11T00:00:00\n"
     ]
    }
   ],
   "source": [
    "while True:\n",
    "    try:\n",
    "        periodic_datetime = input('Enter a datetime of periodic: ')\n",
    "        try:\n",
    "            parsed_datetime = parse_periodic_datetime(periodic_datetime)\n",
    "            print(parsed_datetime.isoformat())\n",
    "        except ValueError:\n",
    "            pass\n",
    "    except EOFError:\n",
    "        break"
   ]
  }
 ],
 "metadata": {
  "kernelspec": {
   "display_name": "Python 3 (ipykernel)",
   "language": "python",
   "name": "python3"
  },
  "language_info": {
   "codemirror_mode": {
    "name": "ipython",
    "version": 3
   },
   "file_extension": ".py",
   "mimetype": "text/x-python",
   "name": "python",
   "nbconvert_exporter": "python",
   "pygments_lexer": "ipython3",
   "version": "3.12.3"
  }
 },
 "nbformat": 4,
 "nbformat_minor": 5
}
