{
 "cells": [
  {
   "cell_type": "markdown",
   "id": "468e88e2-b318-4a39-a4b8-9713fcb93b9c",
   "metadata": {},
   "source": [
    "### Задание 1\n",
    "\n",
    "Дана переменная, в которой хранится слово из латинских букв. Напишите код, который\n",
    "выводит на экран:\n",
    "- среднюю букву, если число букв в слове нечётное;\n",
    "- две средних буквы, если число букв чётное."
   ]
  },
  {
   "cell_type": "code",
   "execution_count": 1,
   "id": "3dcfc55d-b7d8-4fc5-a77c-9ffd577f8a2f",
   "metadata": {},
   "outputs": [],
   "source": [
    "class Word:\n",
    "    def __init__(self, word: str):\n",
    "        if len(word) == 0:\n",
    "            raise ValueError('Given word is empty')\n",
    "        self.word = word\n",
    "\n",
    "    def get_middle_index(self) -> str:   \n",
    "        return round(len(self.word) / 2)\n",
    "\n",
    "    def get_middle(self) -> str:\n",
    "        if len(self.word) == 0:\n",
    "            return ''\n",
    "    \n",
    "        middle_idx = self.get_middle_index()\n",
    "        if len(self.word) % 2 == 0:\n",
    "            return self.word[middle_idx - 1] + self.word[middle_idx]\n",
    "\n",
    "        return self.word[middle_idx]"
   ]
  },
  {
   "cell_type": "code",
   "execution_count": 2,
   "id": "9356875d-0c0a-444d-9a67-841e1a6d4f18",
   "metadata": {},
   "outputs": [
    {
     "data": {
      "text/plain": [
       "'es'"
      ]
     },
     "execution_count": 2,
     "metadata": {},
     "output_type": "execute_result"
    }
   ],
   "source": [
    "word = Word('test')\n",
    "word.get_middle()"
   ]
  },
  {
   "cell_type": "code",
   "execution_count": 3,
   "id": "d699cdf8-1998-4fa8-acdd-c7a0652a7d91",
   "metadata": {},
   "outputs": [
    {
     "data": {
      "text/plain": [
       "'i'"
      ]
     },
     "execution_count": 3,
     "metadata": {},
     "output_type": "execute_result"
    }
   ],
   "source": [
    "word = Word('testing')\n",
    "word.get_middle()"
   ]
  },
  {
   "cell_type": "code",
   "execution_count": 4,
   "id": "a5ca53b2-540d-4921-a9cf-2789fbe26e5f",
   "metadata": {},
   "outputs": [
    {
     "data": {
      "text/plain": [
       "'t'"
      ]
     },
     "execution_count": 4,
     "metadata": {},
     "output_type": "execute_result"
    }
   ],
   "source": [
    "word = Word('t')\n",
    "word.get_middle()"
   ]
  },
  {
   "cell_type": "markdown",
   "id": "2229e5d9-ef4a-4c82-bf63-441d3b6ad16f",
   "metadata": {},
   "source": [
    "### Задание 2\n",
    "MVP dating-сервиса.\n",
    "У вас есть список юношей и девушек.  \n",
    "Выдвигаем гипотезу: лучшие рекомендации получатся, если просто отсортировать имена по алфавиту и познакомить людей с одинаковыми индексами после сортировки.\n",
    "Кто-то может остаться без пары"
   ]
  },
  {
   "cell_type": "code",
   "execution_count": 5,
   "id": "37966a61-7b55-4cba-8039-6d2a22e1f20c",
   "metadata": {},
   "outputs": [],
   "source": [
    "from typing import List\n",
    "class CoupleMatcher:\n",
    "    def __init__(self):\n",
    "        pass\n",
    "\n",
    "    def match_couples(self, girls_names: List, boys_names: List) -> List:\n",
    "        girls_names.sort()\n",
    "        boys_names.sort()\n",
    "\n",
    "        return list(zip(girls_names, boys_names))"
   ]
  },
  {
   "cell_type": "code",
   "execution_count": 6,
   "id": "2b679dab-36bf-4452-bb5f-56ea83904910",
   "metadata": {},
   "outputs": [],
   "source": [
    "couple_matcher = CoupleMatcher()"
   ]
  },
  {
   "cell_type": "code",
   "execution_count": 7,
   "id": "bb40cdf4-403c-4af9-948b-fd86134f3853",
   "metadata": {},
   "outputs": [
    {
     "data": {
      "text/plain": [
       "[('Emma', 'Alex'),\n",
       " ('Kate', 'Arthur'),\n",
       " ('Kira', 'John'),\n",
       " ('Liza', 'Peter'),\n",
       " ('Trisha', 'Richard')]"
      ]
     },
     "execution_count": 7,
     "metadata": {},
     "output_type": "execute_result"
    }
   ],
   "source": [
    "\n",
    "\n",
    "girls_names = ['Kate', 'Liza', 'Kira', 'Emma', 'Trisha']\n",
    "boys_names = ['Peter', 'Alex', 'John', 'Arthur', 'Richard']\n",
    "couple_matcher.match_couples(girls_names, boys_names)"
   ]
  },
  {
   "cell_type": "code",
   "execution_count": 8,
   "id": "dfacbf53-5f70-4dcb-9ca8-1c3f51a6860f",
   "metadata": {},
   "outputs": [
    {
     "data": {
      "text/plain": [
       "[('Alice', 'Alex'),\n",
       " ('Emma', 'Arthur'),\n",
       " ('Kate', 'John'),\n",
       " ('Kira', 'Peter'),\n",
       " ('Liza', 'Richard')]"
      ]
     },
     "execution_count": 8,
     "metadata": {},
     "output_type": "execute_result"
    }
   ],
   "source": [
    "girls_names = ['Kate', 'Liza', 'Kira', 'Emma', 'Trisha', 'Alice']\n",
    "boys_names = ['Peter', 'Alex', 'John', 'Arthur', 'Richard']\n",
    "couple_matcher.match_couples(girls_names, boys_names)"
   ]
  }
 ],
 "metadata": {
  "kernelspec": {
   "display_name": "Python 3 (ipykernel)",
   "language": "python",
   "name": "python3"
  },
  "language_info": {
   "codemirror_mode": {
    "name": "ipython",
    "version": 3
   },
   "file_extension": ".py",
   "mimetype": "text/x-python",
   "name": "python",
   "nbconvert_exporter": "python",
   "pygments_lexer": "ipython3",
   "version": "3.12.3"
  }
 },
 "nbformat": 4,
 "nbformat_minor": 5
}
