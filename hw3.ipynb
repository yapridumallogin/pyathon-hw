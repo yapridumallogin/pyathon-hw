{
 "cells": [
  {
   "cell_type": "markdown",
   "id": "e56db6a0-17fd-4297-8785-3aefdd18efb2",
   "metadata": {},
   "source": [
    "### Задание\n",
    "Необходимо написать программу, которая сформирует словарь данных на основании\n",
    "заданных критериев (ключ = ключ в исходной структуре, значение = True — если\n",
    "**количество** ниже 20 , False — остальные случаи). При разработке использовать\n",
    "dict comprehension."
   ]
  },
  {
   "cell_type": "code",
   "execution_count": 4,
   "id": "760be26d-78c9-4544-a67c-f2bd5f2037d9",
   "metadata": {},
   "outputs": [],
   "source": [
    "def get_items_where_count_less_20(items):\n",
    "    return {key: item['count'] < 20 for (key, item) in items.items()}"
   ]
  },
  {
   "cell_type": "code",
   "execution_count": 5,
   "id": "e4551dae-f5af-481f-a204-0f9646699b61",
   "metadata": {},
   "outputs": [],
   "source": [
    "items = {\n",
    "'milk15':{'name': 'молоко 1.5%', 'count': 34, 'price': 89.9},\n",
    "'cheese':{'name': 'сыр молочный 1 кг.', 'count': 12, 'price': 990.9},\n",
    "'sausage':{'name': 'колбаса 1 кг.', 'count': 122, 'price': 1990.9}\n",
    "}"
   ]
  },
  {
   "cell_type": "code",
   "execution_count": 6,
   "id": "a7f89b3e-6964-499a-b578-e6cacf4b340f",
   "metadata": {},
   "outputs": [
    {
     "name": "stdout",
     "output_type": "stream",
     "text": [
      "{'milk15': False, 'cheese': True, 'sausage': False}\n"
     ]
    }
   ],
   "source": [
    "count_less_20 = get_items_where_count_less_20(items)\n",
    "print(count_less_20)"
   ]
  }
 ],
 "metadata": {
  "kernelspec": {
   "display_name": "Python 3 (ipykernel)",
   "language": "python",
   "name": "python3"
  },
  "language_info": {
   "codemirror_mode": {
    "name": "ipython",
    "version": 3
   },
   "file_extension": ".py",
   "mimetype": "text/x-python",
   "name": "python",
   "nbconvert_exporter": "python",
   "pygments_lexer": "ipython3",
   "version": "3.12.3"
  }
 },
 "nbformat": 4,
 "nbformat_minor": 5
}
