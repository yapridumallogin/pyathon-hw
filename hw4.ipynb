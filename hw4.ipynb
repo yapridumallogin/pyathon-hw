{
 "cells": [
  {
   "cell_type": "code",
   "execution_count": 26,
   "id": "0a533d77-2e20-424c-8ffe-fee3bdfb9906",
   "metadata": {},
   "outputs": [],
   "source": [
    "documents = [\n",
    " {'type': 'passport', 'number': '2207 876234', 'name': 'Василий Гупкин'},\n",
    " {'type': 'invoice', 'number': '11-2', 'name': 'Геннадий Покемонов'},\n",
    " {'type': 'insurance', 'number': '10006', 'name': 'Аристарх Павлов'}\n",
    "]"
   ]
  },
  {
   "cell_type": "code",
   "execution_count": 27,
   "id": "699f6e1a-12f5-41c6-89c0-dc221bda7936",
   "metadata": {},
   "outputs": [],
   "source": [
    "directories = {\n",
    " '1': ['2207 876234', '11-2'],\n",
    " '2': ['10006'],\n",
    " '3': []\n",
    "}"
   ]
  },
  {
   "cell_type": "code",
   "execution_count": 28,
   "id": "57969870-a8b7-4bfb-8ca3-fd7f9a80f52d",
   "metadata": {},
   "outputs": [],
   "source": [
    "class DocumentRegistry():\n",
    "    def __init__(self, documents, directories):\n",
    "        self.documents = documents\n",
    "        self.directories = directories\n",
    "\n",
    "    def get_document(self, document_id: str):\n",
    "        for document in self.documents:\n",
    "            if document['number'] == document_id:\n",
    "                return document\n",
    "\n",
    "        raise RuntimeError('document not found')\n",
    "\n",
    "    def get_owner_of_document(self, document_id: str) -> str:\n",
    "        document = self.get_document(document_id)\n",
    "        return document['name']\n",
    "\n",
    "    def get_shelf_number_of_document(self, document_id: str) -> str:\n",
    "        for directory, documents in self.directories.items():\n",
    "            if document_id in documents:\n",
    "                return directory\n",
    "\n",
    "        raise RuntimeError('document not found')"
   ]
  },
  {
   "cell_type": "code",
   "execution_count": 29,
   "id": "60be8676-30f4-4a22-84a1-bea9f3258546",
   "metadata": {},
   "outputs": [],
   "source": [
    "registry = DocumentRegistry(documents, directories)"
   ]
  },
  {
   "cell_type": "code",
   "execution_count": 30,
   "id": "965a4943-baeb-48cf-9cfa-d197d40a58f4",
   "metadata": {},
   "outputs": [
    {
     "data": {
      "text/plain": [
       "'Аристарх Павлов'"
      ]
     },
     "execution_count": 30,
     "metadata": {},
     "output_type": "execute_result"
    }
   ],
   "source": [
    "registry.get_owner_of_document('10006')"
   ]
  },
  {
   "cell_type": "code",
   "execution_count": 31,
   "id": "0e3416bc-ebff-4ffe-b814-21bb8743cdc9",
   "metadata": {},
   "outputs": [
    {
     "data": {
      "text/plain": [
       "'2'"
      ]
     },
     "execution_count": 31,
     "metadata": {},
     "output_type": "execute_result"
    }
   ],
   "source": [
    "registry.get_shelf_number_of_document('10006')"
   ]
  },
  {
   "cell_type": "code",
   "execution_count": 32,
   "id": "e36a9b9f-bd23-4e5a-82ab-47b26df5876f",
   "metadata": {},
   "outputs": [],
   "source": [
    "class GetOwnerCommand:\n",
    "    def handle(self, document_registry: DocumentRegistry):\n",
    "        document_id = input('Введите номер документа: ')\n",
    "        try:\n",
    "            print('Владелец документа: %s' % document_registry.get_owner_of_document(document_id))\n",
    "        except:\n",
    "            print('Владелец документа: владелец не найден')"
   ]
  },
  {
   "cell_type": "code",
   "execution_count": 33,
   "id": "c431f25d-9a1a-4ca2-a79f-509e3c5f1ee7",
   "metadata": {},
   "outputs": [],
   "source": [
    "class GetShelfCommand:\n",
    "    def handle(self, document_registry: DocumentRegistry):\n",
    "        document_id = input('Введите номер документа: ')\n",
    "        try:\n",
    "            print('Документ хранится на полке: %s' % document_registry.get_shelf_number_of_document(document_id))\n",
    "        except:\n",
    "            print('Документ не найден')"
   ]
  },
  {
   "cell_type": "code",
   "execution_count": 34,
   "id": "e706c064-49bb-45bb-bad2-169c4110e1b5",
   "metadata": {},
   "outputs": [],
   "source": [
    "class Interpreter:\n",
    "    def __init__(self, commands, document_registry: DocumentRegistry):\n",
    "        self.commands = commands\n",
    "        self.document_registry = document_registry\n",
    "\n",
    "    def handle_command(self, command: str):\n",
    "        command_handler = self.commands[command]\n",
    "        command_handler.handle(self.document_registry)\n",
    "    \n",
    "    def run(self):\n",
    "        while True:\n",
    "            command = input('Введите команду: ').strip()\n",
    "            if command == 'q':\n",
    "                print('Пока!')\n",
    "                break\n",
    "                \n",
    "            if command not in self.commands:        \n",
    "                print('Такой команды нет')\n",
    "                continue\n",
    "\n",
    "            self.handle_command(command)"
   ]
  },
  {
   "cell_type": "code",
   "execution_count": 35,
   "id": "db3c45d5-f5ec-412e-bfd9-6ebf1f88f379",
   "metadata": {},
   "outputs": [],
   "source": [
    "interpreter = Interpreter({\n",
    "    'p': GetOwnerCommand(),\n",
    "    's': GetShelfCommand(),\n",
    "}, registry)"
   ]
  },
  {
   "cell_type": "code",
   "execution_count": 38,
   "id": "c6740a18-3944-47a3-aab8-df5530bd4743",
   "metadata": {},
   "outputs": [
    {
     "name": "stdin",
     "output_type": "stream",
     "text": [
      "Введите команду:  p\n",
      "Введите номер документа:  10006\n"
     ]
    },
    {
     "name": "stdout",
     "output_type": "stream",
     "text": [
      "Владелец документа: Аристарх Павлов\n"
     ]
    },
    {
     "name": "stdin",
     "output_type": "stream",
     "text": [
      "Введите команду:  p\n",
      "Введите номер документа:  10001\n"
     ]
    },
    {
     "name": "stdout",
     "output_type": "stream",
     "text": [
      "Владелец документа: владелец не найден\n"
     ]
    },
    {
     "name": "stdin",
     "output_type": "stream",
     "text": [
      "Введите команду:  s\n",
      "Введите номер документа:  10001\n"
     ]
    },
    {
     "name": "stdout",
     "output_type": "stream",
     "text": [
      "Документ не найден\n"
     ]
    },
    {
     "name": "stdin",
     "output_type": "stream",
     "text": [
      "Введите команду:  q\n"
     ]
    },
    {
     "name": "stdout",
     "output_type": "stream",
     "text": [
      "Пока!\n"
     ]
    }
   ],
   "source": [
    "interpreter.run()"
   ]
  }
 ],
 "metadata": {
  "kernelspec": {
   "display_name": "Python 3 (ipykernel)",
   "language": "python",
   "name": "python3"
  },
  "language_info": {
   "codemirror_mode": {
    "name": "ipython",
    "version": 3
   },
   "file_extension": ".py",
   "mimetype": "text/x-python",
   "name": "python",
   "nbconvert_exporter": "python",
   "pygments_lexer": "ipython3",
   "version": "3.12.3"
  }
 },
 "nbformat": 4,
 "nbformat_minor": 5
}
