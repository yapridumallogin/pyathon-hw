{
 "cells": [
  {
   "cell_type": "code",
   "execution_count": 28,
   "id": "9eeabe0c-6b41-4d62-9cb5-bbd18958651d",
   "metadata": {},
   "outputs": [],
   "source": [
    "from enum import StrEnum"
   ]
  },
  {
   "cell_type": "code",
   "execution_count": 29,
   "id": "4c80d58c-bfad-4ecf-b9df-137cfdb8889f",
   "metadata": {},
   "outputs": [],
   "source": [
    "Sex = StrEnum('Sex', ('female', 'male'))\n",
    "\n",
    "class Age:\n",
    "    def __init__(self, age: int):\n",
    "        if age < 0:\n",
    "            raise ValueError('Age cannot be less than zero')\n",
    "        self.value = age\n",
    "\n",
    "    def __str__(self):\n",
    "        last_digit =  self.value % 10\n",
    "        if last_digit == 1:\n",
    "            return f'{self.value} год'\n",
    "        if 1 < last_digit < 5:\n",
    "            return f'{self.value} года'\n",
    "        return f'{self.value} лет'            \n",
    "\n",
    "class Person:\n",
    "    def __init__(self, fullname: str, age: Age, sex: Sex):\n",
    "        self.fullname = fullname\n",
    "        self.age = age\n",
    "        self.sex = sex"
   ]
  },
  {
   "cell_type": "code",
   "execution_count": 30,
   "id": "aa7d80a7-d447-4f10-9428-6a7658be754e",
   "metadata": {},
   "outputs": [],
   "source": [
    "DeviceType = StrEnum('DeviceType', ('mobile', 'laptop', 'desktop', 'tablet'))\n",
    "Browser = StrEnum('Browser', ('Internet Explorer', 'Chrome', 'Firefox', 'Opera'))\n",
    "\n",
    "class Region:\n",
    "    def __init__(self, region: str):\n",
    "        self.value = region\n",
    "\n",
    "    def is_established(self) -> bool:\n",
    "        return self.value != '-'\n",
    "\n",
    "    def __str__(self):\n",
    "        if self.is_established():\n",
    "            return self.value\n",
    "        return \"не установлен\"\n",
    "\n",
    "class Visit:\n",
    "    def __init__(self, device_type: DeviceType, browser: Browser, region: str):\n",
    "        self.device_type = device_type\n",
    "        self.browser = browser\n",
    "        self.region = region\n",
    "\n",
    "class Bill:\n",
    "    def __init__(self, bill: int):\n",
    "        if bill < 0:\n",
    "            raise ValueError('Bill cannot be less than zero')\n",
    "        self.value = bill\n",
    "\n",
    "    def __str__(self):\n",
    "        return f'{self.value} у.е.'\n",
    "\n",
    "class Sale:\n",
    "    def __init__(self, visit: Visit, bill: Bill):\n",
    "        self.visit = visit\n",
    "        self.bill = bill"
   ]
  },
  {
   "cell_type": "code",
   "execution_count": 31,
   "id": "f920c470-3a9a-4beb-a8ef-4da97fb78acb",
   "metadata": {
    "editable": true,
    "slideshow": {
     "slide_type": ""
    },
    "tags": []
   },
   "outputs": [],
   "source": [
    "class Client:\n",
    "    def __init__(self, person: Person, sale: Sale):\n",
    "        self.person = person\n",
    "        self.sale = sale"
   ]
  },
  {
   "cell_type": "code",
   "execution_count": 32,
   "id": "822a2f79-2771-43f9-a708-79044c1cd7af",
   "metadata": {},
   "outputs": [],
   "source": [
    "import csv # todo better use csv.DictReader\n",
    "class CsvClientRowParser:\n",
    "    def parse(self, row) -> Client:\n",
    "        person = self.__parse_row_to_person(row)\n",
    "        sale = self.__parse_row_sale(row)\n",
    "        return Client(person, sale)\n",
    "\n",
    "    def __parse_row_to_person(self, row) -> Person:\n",
    "        fullname = row[0]\n",
    "        age = Age(int(row[4]))\n",
    "        sex = Sex(row[3])\n",
    "        return Person(fullname, age, sex)\n",
    "\n",
    "    def __parse_row_visit(self, row) -> Visit:\n",
    "        device_type = DeviceType(row[1].strip().lower())\n",
    "        browser = Browser(row[2].strip().lower())\n",
    "        region = Region(row[6])\n",
    "        return Visit(device_type, browser, region)\n",
    "    \n",
    "    def __parse_row_sale(self, row) -> Sale:\n",
    "        visit = self.__parse_row_visit(row)\n",
    "        bill = Bill(int(row[5]))\n",
    "        return Sale(visit, bill) \n",
    "\n",
    "class CsvClientLoader:\n",
    "    def __init__(self, client_parser: CsvClientRowParser, input_file):\n",
    "        self.__client_parser = client_parser\n",
    "        self.input_file = input_file\n",
    "        self.csv_reader = csv.reader(self.input_file, delimiter=',')\n",
    "        next(self.csv_reader)\n",
    "\n",
    "    def __iter__(self):\n",
    "        return self\n",
    "\n",
    "    def __next__(self):\n",
    "        row = next(self.csv_reader)\n",
    "        return self.__client_parser.parse(row)"
   ]
  },
  {
   "cell_type": "code",
   "execution_count": 33,
   "id": "fefa6219-e1e2-4390-bd8c-7dd672482e0a",
   "metadata": {},
   "outputs": [],
   "source": [
    "class ClientPresenter:\n",
    "    def present(self, client: Client) -> str:\n",
    "        person_information = self.__prepare_person_information(client.person)\n",
    "        sale_information = self.__prepare_sale_information(client)\n",
    "        visit_information = self.__prepare_visit_information(client.sale.visit)\n",
    "        return f\"{person_information} {sale_information} {visit_information}\"\n",
    "\n",
    "    def __prepare_person_information(self, person: Person) -> str:\n",
    "        sex = \"женского\" if person.sex == Sex.female else \"мужского\"\n",
    "        return f\"Пользователь {person.fullname} {sex}  пола, {person.age}\"\n",
    "\n",
    "    def __prepare_sale_information(self, client: Client) -> str:\n",
    "        action = f\"{\"совершила\" if client.person.sex == Sex.female else \"совершил\" } покупку\"\n",
    "        return f\"{action} на {client.sale.bill}\"\n",
    "\n",
    "    def __prepare_visit_information(self, visit: Visit) -> str:\n",
    "        is_mobile_device = visit.device_type in [DeviceType.mobile, DeviceType.tablet]\n",
    "        device_type_information = \"мобильного\" if is_mobile_device else \"дектопного\"\n",
    "\n",
    "        browser_information = f\"{device_type_information} браузера {visit.browser.capitalize()}\"\n",
    "\n",
    "        return f\"с {browser_information}. Регион, из которого совершалась покупка: {client.sale.visit.region}\""
   ]
  },
  {
   "cell_type": "code",
   "execution_count": 34,
   "id": "4a591a6e-86e9-40d0-a0fb-73904459ce96",
   "metadata": {},
   "outputs": [],
   "source": [
    "with open('web_clients_correct.csv', 'r', encoding='utf-8') as input_file:\n",
    "    with open('web_clients_transform.txt', 'w+', encoding='utf-8') as output_file:\n",
    "        csv_client_loader = CsvClientLoader(CsvClientRowParser(), input_file)\n",
    "        client_presenter = ClientPresenter()\n",
    "    \n",
    "        for client in csv_client_loader:\n",
    "            output_file.write(client_presenter.present(client) + '\\n')"
   ]
  }
 ],
 "metadata": {
  "kernelspec": {
   "display_name": "Python 3 (ipykernel)",
   "language": "python",
   "name": "python3"
  },
  "language_info": {
   "codemirror_mode": {
    "name": "ipython",
    "version": 3
   },
   "file_extension": ".py",
   "mimetype": "text/x-python",
   "name": "python",
   "nbconvert_exporter": "python",
   "pygments_lexer": "ipython3",
   "version": "3.12.3"
  }
 },
 "nbformat": 4,
 "nbformat_minor": 5
}
