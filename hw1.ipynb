{
 "cells": [
  {
   "cell_type": "markdown",
   "id": "5ab196be-4381-431c-99e8-5b05ce7c187d",
   "metadata": {},
   "source": [
    "### Задание 1\n",
    "\n",
    "Дана переменная, в которой хранится четырёхзначное число — год. Необходимо\n",
    "написать программу, которая выведет, является этот год високосным или обычным."
   ]
  },
  {
   "cell_type": "code",
   "execution_count": 1,
   "id": "1eac33b4-97f2-445c-8712-336c76497a96",
   "metadata": {},
   "outputs": [],
   "source": [
    "class Year:\n",
    "    def __init__(self, year: int):\n",
    "        if year < 0:\n",
    "            raise ValueError('Given year is less than zero')\n",
    "\n",
    "        self.year = year\n",
    "\n",
    "    def is_leap(self):\n",
    "        return (self.year % 4) == 0\n",
    "\n",
    "class Year4(Year):\n",
    "    def __init__(self, year: int):\n",
    "        if year < 1000 or year > 9999:\n",
    "            raise ValueError('Given year must consists of four numbers')\n",
    "\n",
    "        super().__init__(year)"
   ]
  },
  {
   "cell_type": "code",
   "execution_count": 9,
   "id": "b842fdc5-3312-46a4-bc0e-da8e7cc27d2d",
   "metadata": {
    "scrolled": true
   },
   "outputs": [
    {
     "name": "stdout",
     "output_type": "stream",
     "text": [
      "Високосный год\n"
     ]
    }
   ],
   "source": [
    "year_1 = Year4(2024)\n",
    "print(\"Високосный год\" if year_1.is_leap() else \"Обычный год\")"
   ]
  },
  {
   "cell_type": "code",
   "execution_count": 10,
   "id": "08e1114f-a171-4c14-8f2d-5dca7294cde1",
   "metadata": {},
   "outputs": [
    {
     "name": "stdout",
     "output_type": "stream",
     "text": [
      "Обычный год\n"
     ]
    }
   ],
   "source": [
    "year_2 = Year4(2023)\n",
    "print(\"Високосный год\" if year_2.is_leap() else \"Обычный год\")"
   ]
  },
  {
   "cell_type": "code",
   "execution_count": 11,
   "id": "f2b4bcd3-6823-4424-8e08-832976f24936",
   "metadata": {},
   "outputs": [
    {
     "name": "stdout",
     "output_type": "stream",
     "text": [
      "Обычный год\n"
     ]
    }
   ],
   "source": [
    "year_3 = Year4(2013)\n",
    "print(\"Високосный год\" if year_3.is_leap() else \"Обычный год\")"
   ]
  },
  {
   "cell_type": "markdown",
   "id": "eac64b79-ed35-4337-a104-4d8922c9cd05",
   "metadata": {},
   "source": [
    "### Задание 2\n",
    "\n",
    "Дана переменная, в которой хранится шестизначное число — номер проездного\n",
    "билета. Напишите программу, которая будет определять, является ли этот билет\n",
    "счастливым. Билет считается счастливым, если сумма первых трёх цифр совпадает с\n",
    "суммой последних трёх цифр номера."
   ]
  },
  {
   "cell_type": "code",
   "execution_count": 12,
   "id": "627e0e54-51b8-41e3-b9be-17abda1fa074",
   "metadata": {},
   "outputs": [],
   "source": [
    "from typing import List\n",
    "\n",
    "class TicketNumber:\n",
    "    def __init__(self, parts: List[int]):\n",
    "        if len(parts) != 6:\n",
    "            raise ValueError('Ticket number must consist of six numbers')\n",
    "\n",
    "        self.parts = parts\n",
    "\n",
    "    def is_happy(self) -> bool:\n",
    "        left_part_sum = sum(list(self.parts)[:3])\n",
    "        right_part_sum = sum(list(self.parts)[3:])\n",
    "\n",
    "        return left_part_sum == right_part_sum\n",
    "    \n",
    "    @classmethod\n",
    "    def from_str(cls, var: str):\n",
    "        parts = [c for c in var]\n",
    "    \n",
    "        if all(map(lambda c: c.isnumeric(), parts)) == False:\n",
    "            raise ValueError('There are parts that is non-numeric')\n",
    "\n",
    "        return cls(list(map(lambda c: int(c), parts)))\n",
    "\n",
    "    @classmethod\n",
    "    def from_number(cls, var: int):\n",
    "        return TicketNumber.from_str(str(var))"
   ]
  },
  {
   "cell_type": "code",
   "execution_count": 13,
   "id": "c9853aa0-4076-47c6-8a87-1e212726d1a7",
   "metadata": {},
   "outputs": [
    {
     "name": "stdout",
     "output_type": "stream",
     "text": [
      "Несчастливый билет\n"
     ]
    }
   ],
   "source": [
    "number = 123456\n",
    "ticket_number_1 = TicketNumber.from_number(number)\n",
    "print('Счастливый билет' if ticket_number_1.is_happy() else 'Несчастливый билет')"
   ]
  },
  {
   "cell_type": "code",
   "execution_count": 14,
   "id": "6e24890c-c9a2-4923-9b56-0cf7502133b1",
   "metadata": {
    "scrolled": true
   },
   "outputs": [
    {
     "name": "stdout",
     "output_type": "stream",
     "text": [
      "Счастливый билет\n"
     ]
    }
   ],
   "source": [
    "number = 123123\n",
    "ticket_number_2 = TicketNumber.from_number(number)\n",
    "print('Счастливый билет' if ticket_number_2.is_happy() else 'Несчастливый билет')"
   ]
  }
 ],
 "metadata": {
  "kernelspec": {
   "display_name": "Python 3 (ipykernel)",
   "language": "python",
   "name": "python3"
  },
  "language_info": {
   "codemirror_mode": {
    "name": "ipython",
    "version": 3
   },
   "file_extension": ".py",
   "mimetype": "text/x-python",
   "name": "python",
   "nbconvert_exporter": "python",
   "pygments_lexer": "ipython3",
   "version": "3.12.3"
  }
 },
 "nbformat": 4,
 "nbformat_minor": 5
}
