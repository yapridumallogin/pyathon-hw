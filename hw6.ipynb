{
 "cells": [
  {
   "cell_type": "code",
   "execution_count": 1,
   "id": "5df8176f-8384-4fab-be84-4868aef33461",
   "metadata": {},
   "outputs": [],
   "source": [
    "import csv\n",
    "import random\n",
    "\n",
    "def get_category(row):\n",
    "    foo = ['Продукты', 'Электроника', 'Парфюмерия']\n",
    "    return random.choice(foo)\n",
    "\n",
    "with open('visit_log.csv', 'r', encoding='utf-8') as input_file:\n",
    "    with open('funnel.csv', 'w', encoding='utf-8', newline='') as output_file:\n",
    "        csvreader = csv.reader(input_file, delimiter=',')\n",
    "        csvwriter = csv.writer(output_file, delimiter=',')\n",
    "\n",
    "        head_row = next(csvreader)\n",
    "        csvwriter.writerow(head_row + ['category'])\n",
    "\n",
    "        for row in csvreader:\n",
    "            row_with_product = row + [get_category(row)]\n",
    "            csvwriter.writerow(row_with_product)"
   ]
  },
  {
   "cell_type": "code",
   "execution_count": null,
   "id": "efc1ab9c-3fe5-4419-897e-22669f6672cd",
   "metadata": {},
   "outputs": [],
   "source": []
  }
 ],
 "metadata": {
  "kernelspec": {
   "display_name": "Python 3 (ipykernel)",
   "language": "python",
   "name": "python3"
  },
  "language_info": {
   "codemirror_mode": {
    "name": "ipython",
    "version": 3
   },
   "file_extension": ".py",
   "mimetype": "text/x-python",
   "name": "python",
   "nbconvert_exporter": "python",
   "pygments_lexer": "ipython3",
   "version": "3.12.3"
  }
 },
 "nbformat": 4,
 "nbformat_minor": 5
}
